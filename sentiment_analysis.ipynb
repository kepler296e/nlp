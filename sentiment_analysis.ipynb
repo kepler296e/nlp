{
 "cells": [
  {
   "cell_type": "markdown",
   "id": "1aa5c212",
   "metadata": {
    "papermill": {
     "duration": 0.004607,
     "end_time": "2024-04-01T06:22:01.917337",
     "exception": false,
     "start_time": "2024-04-01T06:22:01.912730",
     "status": "completed"
    },
    "tags": []
   },
   "source": [
    "### Sentiment Analysis\n",
    "Bidirectional LSTM with pre-trained GloVe embeddings.\n",
    "\n",
    "IMDb dataset with 50k positive/negative reviews."
   ]
  },
  {
   "cell_type": "code",
   "execution_count": 1,
   "id": "6017ad89",
   "metadata": {
    "execution": {
     "iopub.execute_input": "2024-04-01T06:22:01.926978Z",
     "iopub.status.busy": "2024-04-01T06:22:01.926675Z",
     "iopub.status.idle": "2024-04-01T06:22:04.046891Z",
     "shell.execute_reply": "2024-04-01T06:22:04.045919Z"
    },
    "papermill": {
     "duration": 2.127612,
     "end_time": "2024-04-01T06:22:04.049166",
     "exception": false,
     "start_time": "2024-04-01T06:22:01.921554",
     "status": "completed"
    },
    "tags": []
   },
   "outputs": [
    {
     "data": {
      "text/html": [
       "<div>\n",
       "<style scoped>\n",
       "    .dataframe tbody tr th:only-of-type {\n",
       "        vertical-align: middle;\n",
       "    }\n",
       "\n",
       "    .dataframe tbody tr th {\n",
       "        vertical-align: top;\n",
       "    }\n",
       "\n",
       "    .dataframe thead th {\n",
       "        text-align: right;\n",
       "    }\n",
       "</style>\n",
       "<table border=\"1\" class=\"dataframe\">\n",
       "  <thead>\n",
       "    <tr style=\"text-align: right;\">\n",
       "      <th></th>\n",
       "      <th>review</th>\n",
       "      <th>sentiment</th>\n",
       "    </tr>\n",
       "  </thead>\n",
       "  <tbody>\n",
       "    <tr>\n",
       "      <th>0</th>\n",
       "      <td>One of the other reviewers has mentioned that ...</td>\n",
       "      <td>positive</td>\n",
       "    </tr>\n",
       "    <tr>\n",
       "      <th>1</th>\n",
       "      <td>A wonderful little production. &lt;br /&gt;&lt;br /&gt;The...</td>\n",
       "      <td>positive</td>\n",
       "    </tr>\n",
       "    <tr>\n",
       "      <th>2</th>\n",
       "      <td>I thought this was a wonderful way to spend ti...</td>\n",
       "      <td>positive</td>\n",
       "    </tr>\n",
       "    <tr>\n",
       "      <th>3</th>\n",
       "      <td>Basically there's a family where a little boy ...</td>\n",
       "      <td>negative</td>\n",
       "    </tr>\n",
       "    <tr>\n",
       "      <th>4</th>\n",
       "      <td>Petter Mattei's \"Love in the Time of Money\" is...</td>\n",
       "      <td>positive</td>\n",
       "    </tr>\n",
       "  </tbody>\n",
       "</table>\n",
       "</div>"
      ],
      "text/plain": [
       "                                              review sentiment\n",
       "0  One of the other reviewers has mentioned that ...  positive\n",
       "1  A wonderful little production. <br /><br />The...  positive\n",
       "2  I thought this was a wonderful way to spend ti...  positive\n",
       "3  Basically there's a family where a little boy ...  negative\n",
       "4  Petter Mattei's \"Love in the Time of Money\" is...  positive"
      ]
     },
     "execution_count": 1,
     "metadata": {},
     "output_type": "execute_result"
    }
   ],
   "source": [
    "import numpy as np\n",
    "import pandas as pd\n",
    "\n",
    "reviews = pd.read_csv(\"/kaggle/input/imdb-dataset-of-50k-movie-reviews/IMDB Dataset.csv\")\n",
    "reviews.head()"
   ]
  },
  {
   "cell_type": "code",
   "execution_count": 2,
   "id": "d205347c",
   "metadata": {
    "execution": {
     "iopub.execute_input": "2024-04-01T06:22:04.060064Z",
     "iopub.status.busy": "2024-04-01T06:22:04.059777Z",
     "iopub.status.idle": "2024-04-01T06:22:09.440220Z",
     "shell.execute_reply": "2024-04-01T06:22:09.439321Z"
    },
    "papermill": {
     "duration": 5.388319,
     "end_time": "2024-04-01T06:22:09.442266",
     "exception": false,
     "start_time": "2024-04-01T06:22:04.053947",
     "status": "completed"
    },
    "tags": []
   },
   "outputs": [
    {
     "data": {
      "text/html": [
       "<div>\n",
       "<style scoped>\n",
       "    .dataframe tbody tr th:only-of-type {\n",
       "        vertical-align: middle;\n",
       "    }\n",
       "\n",
       "    .dataframe tbody tr th {\n",
       "        vertical-align: top;\n",
       "    }\n",
       "\n",
       "    .dataframe thead th {\n",
       "        text-align: right;\n",
       "    }\n",
       "</style>\n",
       "<table border=\"1\" class=\"dataframe\">\n",
       "  <thead>\n",
       "    <tr style=\"text-align: right;\">\n",
       "      <th></th>\n",
       "      <th>review</th>\n",
       "      <th>sentiment</th>\n",
       "      <th>preprocessed_review</th>\n",
       "    </tr>\n",
       "  </thead>\n",
       "  <tbody>\n",
       "    <tr>\n",
       "      <th>0</th>\n",
       "      <td>One of the other reviewers has mentioned that ...</td>\n",
       "      <td>positive</td>\n",
       "      <td>[one, of, the, other, reviewers, has, mentione...</td>\n",
       "    </tr>\n",
       "    <tr>\n",
       "      <th>1</th>\n",
       "      <td>A wonderful little production. &lt;br /&gt;&lt;br /&gt;The...</td>\n",
       "      <td>positive</td>\n",
       "      <td>[wonderful, little, production, br, br, the, f...</td>\n",
       "    </tr>\n",
       "    <tr>\n",
       "      <th>2</th>\n",
       "      <td>I thought this was a wonderful way to spend ti...</td>\n",
       "      <td>positive</td>\n",
       "      <td>[thought, this, was, wonderful, way, to, spend...</td>\n",
       "    </tr>\n",
       "    <tr>\n",
       "      <th>3</th>\n",
       "      <td>Basically there's a family where a little boy ...</td>\n",
       "      <td>negative</td>\n",
       "      <td>[basically, theres, family, where, little, boy...</td>\n",
       "    </tr>\n",
       "    <tr>\n",
       "      <th>4</th>\n",
       "      <td>Petter Mattei's \"Love in the Time of Money\" is...</td>\n",
       "      <td>positive</td>\n",
       "      <td>[petter, matteis, love, in, the, time, of, mon...</td>\n",
       "    </tr>\n",
       "  </tbody>\n",
       "</table>\n",
       "</div>"
      ],
      "text/plain": [
       "                                              review sentiment  \\\n",
       "0  One of the other reviewers has mentioned that ...  positive   \n",
       "1  A wonderful little production. <br /><br />The...  positive   \n",
       "2  I thought this was a wonderful way to spend ti...  positive   \n",
       "3  Basically there's a family where a little boy ...  negative   \n",
       "4  Petter Mattei's \"Love in the Time of Money\" is...  positive   \n",
       "\n",
       "                                 preprocessed_review  \n",
       "0  [one, of, the, other, reviewers, has, mentione...  \n",
       "1  [wonderful, little, production, br, br, the, f...  \n",
       "2  [thought, this, was, wonderful, way, to, spend...  \n",
       "3  [basically, theres, family, where, little, boy...  \n",
       "4  [petter, matteis, love, in, the, time, of, mon...  "
      ]
     },
     "execution_count": 2,
     "metadata": {},
     "output_type": "execute_result"
    }
   ],
   "source": [
    "import re\n",
    "\n",
    "def preprocess(text):\n",
    "    text = text.lower()\n",
    "    text = re.sub(r'[^a-zA-Z\\s]', '', text)\n",
    "    words = text.split()\n",
    "    words = [w for w in words if len(w) > 1]\n",
    "    return words\n",
    "\n",
    "reviews['preprocessed_review'] = reviews['review'].apply(preprocess)\n",
    "reviews.head()"
   ]
  },
  {
   "cell_type": "code",
   "execution_count": 3,
   "id": "6584d1b1",
   "metadata": {
    "execution": {
     "iopub.execute_input": "2024-04-01T06:22:09.453207Z",
     "iopub.status.busy": "2024-04-01T06:22:09.452914Z",
     "iopub.status.idle": "2024-04-01T06:22:10.402120Z",
     "shell.execute_reply": "2024-04-01T06:22:10.401141Z"
    },
    "papermill": {
     "duration": 0.956985,
     "end_time": "2024-04-01T06:22:10.404325",
     "exception": false,
     "start_time": "2024-04-01T06:22:09.447340",
     "status": "completed"
    },
    "tags": []
   },
   "outputs": [
    {
     "data": {
      "text/plain": [
       "175866"
      ]
     },
     "execution_count": 3,
     "metadata": {},
     "output_type": "execute_result"
    }
   ],
   "source": [
    "words = set()\n",
    "for review in reviews['preprocessed_review']:\n",
    "    words.update(review)\n",
    "words = list(words)\n",
    "vocab_size = len(words) + 1\n",
    "\n",
    "vocab_size"
   ]
  },
  {
   "cell_type": "code",
   "execution_count": 4,
   "id": "30e58f64",
   "metadata": {
    "execution": {
     "iopub.execute_input": "2024-04-01T06:22:10.415780Z",
     "iopub.status.busy": "2024-04-01T06:22:10.415227Z",
     "iopub.status.idle": "2024-04-01T06:22:23.269869Z",
     "shell.execute_reply": "2024-04-01T06:22:23.268930Z"
    },
    "papermill": {
     "duration": 12.862648,
     "end_time": "2024-04-01T06:22:23.272064",
     "exception": false,
     "start_time": "2024-04-01T06:22:10.409416",
     "status": "completed"
    },
    "tags": []
   },
   "outputs": [
    {
     "data": {
      "text/plain": [
       "(175866, 100)"
      ]
     },
     "execution_count": 4,
     "metadata": {},
     "output_type": "execute_result"
    }
   ],
   "source": [
    "word2vec = {}\n",
    "with open('/kaggle/input/glove-global-vectors-for-word-representation/glove.6B.100d.txt', encoding='utf-8') as f:\n",
    "    for line in f:\n",
    "        values = line.split()\n",
    "        word = values[0]\n",
    "        coefs = np.asarray(values[1:], dtype='float32')\n",
    "        word2vec[word] = coefs\n",
    "\n",
    "embed_dim = 100\n",
    "embed_glove = np.zeros((vocab_size, embed_dim))\n",
    "for i, word in enumerate(words):\n",
    "    if word in word2vec:\n",
    "        embed_glove[i] = word2vec[word]\n",
    "\n",
    "embed_glove.shape"
   ]
  },
  {
   "cell_type": "code",
   "execution_count": 5,
   "id": "cc59c1a5",
   "metadata": {
    "execution": {
     "iopub.execute_input": "2024-04-01T06:22:23.283314Z",
     "iopub.status.busy": "2024-04-01T06:22:23.283000Z",
     "iopub.status.idle": "2024-04-01T06:22:23.335933Z",
     "shell.execute_reply": "2024-04-01T06:22:23.335062Z"
    },
    "papermill": {
     "duration": 0.06054,
     "end_time": "2024-04-01T06:22:23.337851",
     "exception": false,
     "start_time": "2024-04-01T06:22:23.277311",
     "status": "completed"
    },
    "tags": []
   },
   "outputs": [
    {
     "data": {
      "text/plain": [
       "count    50000.000000\n",
       "mean       219.384360\n",
       "std        164.033914\n",
       "min          4.000000\n",
       "25%        119.000000\n",
       "50%        164.000000\n",
       "75%        266.000000\n",
       "max       2370.000000\n",
       "Name: preprocessed_review, dtype: float64"
      ]
     },
     "execution_count": 5,
     "metadata": {},
     "output_type": "execute_result"
    }
   ],
   "source": [
    "reviews['preprocessed_review'].apply(len).describe()"
   ]
  },
  {
   "cell_type": "code",
   "execution_count": 6,
   "id": "f96a31ba",
   "metadata": {
    "execution": {
     "iopub.execute_input": "2024-04-01T06:22:23.348734Z",
     "iopub.status.busy": "2024-04-01T06:22:23.348449Z",
     "iopub.status.idle": "2024-04-01T06:22:39.419684Z",
     "shell.execute_reply": "2024-04-01T06:22:39.418706Z"
    },
    "papermill": {
     "duration": 16.07895,
     "end_time": "2024-04-01T06:22:39.421726",
     "exception": false,
     "start_time": "2024-04-01T06:22:23.342776",
     "status": "completed"
    },
    "tags": []
   },
   "outputs": [
    {
     "data": {
      "text/plain": [
       "(50000, 219, 100)"
      ]
     },
     "execution_count": 6,
     "metadata": {},
     "output_type": "execute_result"
    }
   ],
   "source": [
    "max_len = 219 # avg word count\n",
    "\n",
    "X = np.zeros((len(reviews), max_len, embed_dim))\n",
    "for i, review in enumerate(reviews['preprocessed_review']):\n",
    "    for j, word in enumerate(review):\n",
    "        if j == max_len:\n",
    "            break\n",
    "        if word in word2vec:\n",
    "            X[i, j] = word2vec[word]\n",
    "\n",
    "X.shape"
   ]
  },
  {
   "cell_type": "code",
   "execution_count": 7,
   "id": "212e8212",
   "metadata": {
    "execution": {
     "iopub.execute_input": "2024-04-01T06:22:39.433372Z",
     "iopub.status.busy": "2024-04-01T06:22:39.433009Z",
     "iopub.status.idle": "2024-04-01T06:22:39.453150Z",
     "shell.execute_reply": "2024-04-01T06:22:39.452125Z"
    },
    "papermill": {
     "duration": 0.028529,
     "end_time": "2024-04-01T06:22:39.455523",
     "exception": false,
     "start_time": "2024-04-01T06:22:39.426994",
     "status": "completed"
    },
    "tags": []
   },
   "outputs": [
    {
     "name": "stdout",
     "output_type": "stream",
     "text": [
      "(47500, 219, 100) (2500, 219, 100)\n",
      "[-0.22556999  0.49417999  0.48609999 -0.4332      0.13738     0.50616997\n",
      "  0.26058     0.30103001 -0.091486    0.10876     0.30579999  0.051028\n",
      "  0.22303     0.054236    0.068838   -0.24700999  0.32688999 -0.082203\n",
      " -0.28865999  0.3734      0.73803997 -0.040969    0.040201    0.11384\n",
      "  0.69986999 -0.49744999 -0.06755    -0.42598999 -0.10725    -0.010697\n",
      " -0.01479     0.55975997  0.3064      0.053053    0.058034    0.32756001\n",
      " -0.37233001  0.46513     0.14285    -0.085003   -0.45475999  0.19773\n",
      "  0.6383     -0.31147999  0.10858     0.31557     0.36682001 -0.35135001\n",
      " -0.48414001 -0.33234999 -0.33816001 -0.39678001  0.1908      1.3513\n",
      " -0.39043999 -2.87949991 -0.14275999 -0.087754    1.77129996  0.99331999\n",
      " -0.14128999  0.94388998  0.050897    0.47373     0.86387002 -0.16162001\n",
      "  0.67198998  0.52344     0.14438    -0.055194   -0.34669    -0.20742001\n",
      "  0.18907    -0.19845     0.34862     0.10121    -0.092119   -0.66258001\n",
      " -1.0582     -0.11803     0.70170999  0.077776   -0.50546002  0.032243\n",
      " -1.61759996 -0.29302001 -0.061748   -0.32473001  0.3439     -0.44698\n",
      "  0.085689    0.13294999 -0.1807     -0.11854    -0.82985002  0.13784\n",
      " -0.34358999 -0.45743999  0.49645999  0.34906   ]\n",
      "1\n"
     ]
    }
   ],
   "source": [
    "y = (reviews['sentiment'].values == 'positive').astype(int)\n",
    "\n",
    "train_size = int(len(reviews)*.95)\n",
    "X_train, X_test = X[:train_size], X[train_size:]\n",
    "y_train, y_test = y[:train_size], y[train_size:]\n",
    "\n",
    "print(X_train.shape, X_test.shape)\n",
    "print(X_train[0, 0])\n",
    "print(y[0])"
   ]
  },
  {
   "cell_type": "code",
   "execution_count": 8,
   "id": "859ca3c8",
   "metadata": {
    "execution": {
     "iopub.execute_input": "2024-04-01T06:22:39.468916Z",
     "iopub.status.busy": "2024-04-01T06:22:39.468586Z",
     "iopub.status.idle": "2024-04-01T06:22:53.011537Z",
     "shell.execute_reply": "2024-04-01T06:22:53.010421Z"
    },
    "papermill": {
     "duration": 13.551893,
     "end_time": "2024-04-01T06:22:53.013553",
     "exception": false,
     "start_time": "2024-04-01T06:22:39.461660",
     "status": "completed"
    },
    "tags": []
   },
   "outputs": [
    {
     "name": "stderr",
     "output_type": "stream",
     "text": [
      "2024-04-01 06:22:41.137051: E external/local_xla/xla/stream_executor/cuda/cuda_dnn.cc:9261] Unable to register cuDNN factory: Attempting to register factory for plugin cuDNN when one has already been registered\n",
      "2024-04-01 06:22:41.137162: E external/local_xla/xla/stream_executor/cuda/cuda_fft.cc:607] Unable to register cuFFT factory: Attempting to register factory for plugin cuFFT when one has already been registered\n",
      "2024-04-01 06:22:41.252824: E external/local_xla/xla/stream_executor/cuda/cuda_blas.cc:1515] Unable to register cuBLAS factory: Attempting to register factory for plugin cuBLAS when one has already been registered\n"
     ]
    },
    {
     "data": {
      "text/html": [
       "<pre style=\"white-space:pre;overflow-x:auto;line-height:normal;font-family:Menlo,'DejaVu Sans Mono',consolas,'Courier New',monospace\"><span style=\"font-weight: bold\">Model: \"functional_1\"</span>\n",
       "</pre>\n"
      ],
      "text/plain": [
       "\u001b[1mModel: \"functional_1\"\u001b[0m\n"
      ]
     },
     "metadata": {},
     "output_type": "display_data"
    },
    {
     "data": {
      "text/html": [
       "<pre style=\"white-space:pre;overflow-x:auto;line-height:normal;font-family:Menlo,'DejaVu Sans Mono',consolas,'Courier New',monospace\">┏━━━━━━━━━━━━━━━━━━━━━━━━━━━━━━━━━┳━━━━━━━━━━━━━━━━━━━━━━━━┳━━━━━━━━━━━━━━━┓\n",
       "┃<span style=\"font-weight: bold\"> Layer (type)                    </span>┃<span style=\"font-weight: bold\"> Output Shape           </span>┃<span style=\"font-weight: bold\">       Param # </span>┃\n",
       "┡━━━━━━━━━━━━━━━━━━━━━━━━━━━━━━━━━╇━━━━━━━━━━━━━━━━━━━━━━━━╇━━━━━━━━━━━━━━━┩\n",
       "│ input_layer (<span style=\"color: #0087ff; text-decoration-color: #0087ff\">InputLayer</span>)        │ (<span style=\"color: #00d7ff; text-decoration-color: #00d7ff\">None</span>, <span style=\"color: #00af00; text-decoration-color: #00af00\">219</span>, <span style=\"color: #00af00; text-decoration-color: #00af00\">100</span>)       │             <span style=\"color: #00af00; text-decoration-color: #00af00\">0</span> │\n",
       "├─────────────────────────────────┼────────────────────────┼───────────────┤\n",
       "│ bidirectional (<span style=\"color: #0087ff; text-decoration-color: #0087ff\">Bidirectional</span>)   │ (<span style=\"color: #00d7ff; text-decoration-color: #00d7ff\">None</span>, <span style=\"color: #00af00; text-decoration-color: #00af00\">219</span>, <span style=\"color: #00af00; text-decoration-color: #00af00\">256</span>)       │       <span style=\"color: #00af00; text-decoration-color: #00af00\">234,496</span> │\n",
       "├─────────────────────────────────┼────────────────────────┼───────────────┤\n",
       "│ dropout (<span style=\"color: #0087ff; text-decoration-color: #0087ff\">Dropout</span>)               │ (<span style=\"color: #00d7ff; text-decoration-color: #00d7ff\">None</span>, <span style=\"color: #00af00; text-decoration-color: #00af00\">219</span>, <span style=\"color: #00af00; text-decoration-color: #00af00\">256</span>)       │             <span style=\"color: #00af00; text-decoration-color: #00af00\">0</span> │\n",
       "├─────────────────────────────────┼────────────────────────┼───────────────┤\n",
       "│ bidirectional_1 (<span style=\"color: #0087ff; text-decoration-color: #0087ff\">Bidirectional</span>) │ (<span style=\"color: #00d7ff; text-decoration-color: #00d7ff\">None</span>, <span style=\"color: #00af00; text-decoration-color: #00af00\">256</span>)            │       <span style=\"color: #00af00; text-decoration-color: #00af00\">394,240</span> │\n",
       "├─────────────────────────────────┼────────────────────────┼───────────────┤\n",
       "│ dense (<span style=\"color: #0087ff; text-decoration-color: #0087ff\">Dense</span>)                   │ (<span style=\"color: #00d7ff; text-decoration-color: #00d7ff\">None</span>, <span style=\"color: #00af00; text-decoration-color: #00af00\">1</span>)              │           <span style=\"color: #00af00; text-decoration-color: #00af00\">257</span> │\n",
       "└─────────────────────────────────┴────────────────────────┴───────────────┘\n",
       "</pre>\n"
      ],
      "text/plain": [
       "┏━━━━━━━━━━━━━━━━━━━━━━━━━━━━━━━━━┳━━━━━━━━━━━━━━━━━━━━━━━━┳━━━━━━━━━━━━━━━┓\n",
       "┃\u001b[1m \u001b[0m\u001b[1mLayer (type)                   \u001b[0m\u001b[1m \u001b[0m┃\u001b[1m \u001b[0m\u001b[1mOutput Shape          \u001b[0m\u001b[1m \u001b[0m┃\u001b[1m \u001b[0m\u001b[1m      Param #\u001b[0m\u001b[1m \u001b[0m┃\n",
       "┡━━━━━━━━━━━━━━━━━━━━━━━━━━━━━━━━━╇━━━━━━━━━━━━━━━━━━━━━━━━╇━━━━━━━━━━━━━━━┩\n",
       "│ input_layer (\u001b[38;5;33mInputLayer\u001b[0m)        │ (\u001b[38;5;45mNone\u001b[0m, \u001b[38;5;34m219\u001b[0m, \u001b[38;5;34m100\u001b[0m)       │             \u001b[38;5;34m0\u001b[0m │\n",
       "├─────────────────────────────────┼────────────────────────┼───────────────┤\n",
       "│ bidirectional (\u001b[38;5;33mBidirectional\u001b[0m)   │ (\u001b[38;5;45mNone\u001b[0m, \u001b[38;5;34m219\u001b[0m, \u001b[38;5;34m256\u001b[0m)       │       \u001b[38;5;34m234,496\u001b[0m │\n",
       "├─────────────────────────────────┼────────────────────────┼───────────────┤\n",
       "│ dropout (\u001b[38;5;33mDropout\u001b[0m)               │ (\u001b[38;5;45mNone\u001b[0m, \u001b[38;5;34m219\u001b[0m, \u001b[38;5;34m256\u001b[0m)       │             \u001b[38;5;34m0\u001b[0m │\n",
       "├─────────────────────────────────┼────────────────────────┼───────────────┤\n",
       "│ bidirectional_1 (\u001b[38;5;33mBidirectional\u001b[0m) │ (\u001b[38;5;45mNone\u001b[0m, \u001b[38;5;34m256\u001b[0m)            │       \u001b[38;5;34m394,240\u001b[0m │\n",
       "├─────────────────────────────────┼────────────────────────┼───────────────┤\n",
       "│ dense (\u001b[38;5;33mDense\u001b[0m)                   │ (\u001b[38;5;45mNone\u001b[0m, \u001b[38;5;34m1\u001b[0m)              │           \u001b[38;5;34m257\u001b[0m │\n",
       "└─────────────────────────────────┴────────────────────────┴───────────────┘\n"
      ]
     },
     "metadata": {},
     "output_type": "display_data"
    },
    {
     "data": {
      "text/html": [
       "<pre style=\"white-space:pre;overflow-x:auto;line-height:normal;font-family:Menlo,'DejaVu Sans Mono',consolas,'Courier New',monospace\"><span style=\"font-weight: bold\"> Total params: </span><span style=\"color: #00af00; text-decoration-color: #00af00\">628,993</span> (2.40 MB)\n",
       "</pre>\n"
      ],
      "text/plain": [
       "\u001b[1m Total params: \u001b[0m\u001b[38;5;34m628,993\u001b[0m (2.40 MB)\n"
      ]
     },
     "metadata": {},
     "output_type": "display_data"
    },
    {
     "data": {
      "text/html": [
       "<pre style=\"white-space:pre;overflow-x:auto;line-height:normal;font-family:Menlo,'DejaVu Sans Mono',consolas,'Courier New',monospace\"><span style=\"font-weight: bold\"> Trainable params: </span><span style=\"color: #00af00; text-decoration-color: #00af00\">628,993</span> (2.40 MB)\n",
       "</pre>\n"
      ],
      "text/plain": [
       "\u001b[1m Trainable params: \u001b[0m\u001b[38;5;34m628,993\u001b[0m (2.40 MB)\n"
      ]
     },
     "metadata": {},
     "output_type": "display_data"
    },
    {
     "data": {
      "text/html": [
       "<pre style=\"white-space:pre;overflow-x:auto;line-height:normal;font-family:Menlo,'DejaVu Sans Mono',consolas,'Courier New',monospace\"><span style=\"font-weight: bold\"> Non-trainable params: </span><span style=\"color: #00af00; text-decoration-color: #00af00\">0</span> (0.00 B)\n",
       "</pre>\n"
      ],
      "text/plain": [
       "\u001b[1m Non-trainable params: \u001b[0m\u001b[38;5;34m0\u001b[0m (0.00 B)\n"
      ]
     },
     "metadata": {},
     "output_type": "display_data"
    }
   ],
   "source": [
    "import tensorflow as tf\n",
    "from keras.layers import LSTM, Dense, Input, Dropout, Bidirectional\n",
    "\n",
    "embeddings = Input(shape=(max_len, embed_dim))\n",
    "lstm = Bidirectional(LSTM(units=128, return_sequences=True))(embeddings)\n",
    "dropout = Dropout(.5)(lstm)\n",
    "lstm = Bidirectional(LSTM(units=128))(dropout)\n",
    "output = Dense(units=1, activation='sigmoid')(lstm)\n",
    "\n",
    "model = tf.keras.Model(inputs=embeddings, outputs=output)\n",
    "model.compile(optimizer='adam', loss='binary_crossentropy', metrics=['accuracy'])\n",
    "model.summary()"
   ]
  },
  {
   "cell_type": "code",
   "execution_count": 9,
   "id": "c884d163",
   "metadata": {
    "execution": {
     "iopub.execute_input": "2024-04-01T06:22:53.028743Z",
     "iopub.status.busy": "2024-04-01T06:22:53.027954Z",
     "iopub.status.idle": "2024-04-01T06:27:56.381734Z",
     "shell.execute_reply": "2024-04-01T06:27:56.380363Z"
    },
    "papermill": {
     "duration": 303.365001,
     "end_time": "2024-04-01T06:27:56.385217",
     "exception": false,
     "start_time": "2024-04-01T06:22:53.020216",
     "status": "completed"
    },
    "tags": []
   },
   "outputs": [
    {
     "name": "stdout",
     "output_type": "stream",
     "text": [
      "Epoch 1/10\n",
      "\u001b[1m372/372\u001b[0m \u001b[32m━━━━━━━━━━━━━━━━━━━━\u001b[0m\u001b[37m\u001b[0m \u001b[1m36s\u001b[0m 79ms/step - accuracy: 0.6616 - loss: 0.6123 - val_accuracy: 0.7060 - val_loss: 0.5777\n",
      "Epoch 2/10\n",
      "\u001b[1m372/372\u001b[0m \u001b[32m━━━━━━━━━━━━━━━━━━━━\u001b[0m\u001b[37m\u001b[0m \u001b[1m28s\u001b[0m 76ms/step - accuracy: 0.7788 - loss: 0.4751 - val_accuracy: 0.8280 - val_loss: 0.3945\n",
      "Epoch 3/10\n",
      "\u001b[1m372/372\u001b[0m \u001b[32m━━━━━━━━━━━━━━━━━━━━\u001b[0m\u001b[37m\u001b[0m \u001b[1m28s\u001b[0m 76ms/step - accuracy: 0.8311 - loss: 0.3876 - val_accuracy: 0.8416 - val_loss: 0.3619\n",
      "Epoch 4/10\n",
      "\u001b[1m372/372\u001b[0m \u001b[32m━━━━━━━━━━━━━━━━━━━━\u001b[0m\u001b[37m\u001b[0m \u001b[1m28s\u001b[0m 76ms/step - accuracy: 0.8492 - loss: 0.3458 - val_accuracy: 0.8096 - val_loss: 0.4117\n",
      "Epoch 5/10\n",
      "\u001b[1m372/372\u001b[0m \u001b[32m━━━━━━━━━━━━━━━━━━━━\u001b[0m\u001b[37m\u001b[0m \u001b[1m28s\u001b[0m 76ms/step - accuracy: 0.8616 - loss: 0.3271 - val_accuracy: 0.8568 - val_loss: 0.3396\n",
      "Epoch 6/10\n",
      "\u001b[1m372/372\u001b[0m \u001b[32m━━━━━━━━━━━━━━━━━━━━\u001b[0m\u001b[37m\u001b[0m \u001b[1m28s\u001b[0m 76ms/step - accuracy: 0.8662 - loss: 0.3100 - val_accuracy: 0.8588 - val_loss: 0.3195\n",
      "Epoch 7/10\n",
      "\u001b[1m372/372\u001b[0m \u001b[32m━━━━━━━━━━━━━━━━━━━━\u001b[0m\u001b[37m\u001b[0m \u001b[1m28s\u001b[0m 76ms/step - accuracy: 0.8781 - loss: 0.2834 - val_accuracy: 0.8652 - val_loss: 0.3056\n",
      "Epoch 8/10\n",
      "\u001b[1m372/372\u001b[0m \u001b[32m━━━━━━━━━━━━━━━━━━━━\u001b[0m\u001b[37m\u001b[0m \u001b[1m28s\u001b[0m 76ms/step - accuracy: 0.8896 - loss: 0.2616 - val_accuracy: 0.8712 - val_loss: 0.3007\n",
      "Epoch 9/10\n",
      "\u001b[1m372/372\u001b[0m \u001b[32m━━━━━━━━━━━━━━━━━━━━\u001b[0m\u001b[37m\u001b[0m \u001b[1m28s\u001b[0m 76ms/step - accuracy: 0.8959 - loss: 0.2507 - val_accuracy: 0.8712 - val_loss: 0.3079\n",
      "Epoch 10/10\n",
      "\u001b[1m372/372\u001b[0m \u001b[32m━━━━━━━━━━━━━━━━━━━━\u001b[0m\u001b[37m\u001b[0m \u001b[1m28s\u001b[0m 76ms/step - accuracy: 0.9035 - loss: 0.2320 - val_accuracy: 0.8544 - val_loss: 0.3486\n"
     ]
    }
   ],
   "source": [
    "history = model.fit(X_train, y_train, epochs=10, batch_size=128, validation_data=(X_test, y_test))"
   ]
  },
  {
   "cell_type": "code",
   "execution_count": 10,
   "id": "eb6a6f79",
   "metadata": {
    "execution": {
     "iopub.execute_input": "2024-04-01T06:27:57.020501Z",
     "iopub.status.busy": "2024-04-01T06:27:57.019538Z",
     "iopub.status.idle": "2024-04-01T06:27:57.400237Z",
     "shell.execute_reply": "2024-04-01T06:27:57.399150Z"
    },
    "papermill": {
     "duration": 0.690025,
     "end_time": "2024-04-01T06:27:57.402357",
     "exception": false,
     "start_time": "2024-04-01T06:27:56.712332",
     "status": "completed"
    },
    "tags": []
   },
   "outputs": [
    {
     "name": "stdout",
     "output_type": "stream",
     "text": [
      "\u001b[1m1/1\u001b[0m \u001b[32m━━━━━━━━━━━━━━━━━━━━\u001b[0m\u001b[37m\u001b[0m \u001b[1m0s\u001b[0m 318ms/step\n",
      "I didn't like the movie! negative 0.37\n",
      "The movie was amazing! positive 0.76\n"
     ]
    }
   ],
   "source": [
    "def test_reviews(reviews):\n",
    "    processed_reviews = [preprocess(r) for r in reviews]\n",
    "    filtered_reviews = [[word2vec[w] for w in r if w in word2vec] for r in processed_reviews]\n",
    "    padded_reviews = [np.pad(r, ((0, max_len - len(r)), (0, 0))) for r in filtered_reviews]\n",
    "    \n",
    "    predictions = model.predict(np.array(padded_reviews))\n",
    "    certainties = np.abs(predictions[:, 0] - 0.5) * 2\n",
    "    sentiments = ['positive' if pred > 0.5 else 'negative' for pred in predictions]\n",
    "\n",
    "    return zip(reviews, sentiments, certainties)\n",
    "\n",
    "custom_reviews = [\"I didn't like the movie!\", \"The movie was amazing!\"]\n",
    "\n",
    "results = test_reviews(custom_reviews)\n",
    "for review, sentiment, certainty in results:\n",
    "    print(review, sentiment, round(certainty, 2))"
   ]
  },
  {
   "cell_type": "code",
   "execution_count": 11,
   "id": "885d6bd0",
   "metadata": {
    "execution": {
     "iopub.execute_input": "2024-04-01T06:27:58.061934Z",
     "iopub.status.busy": "2024-04-01T06:27:58.061590Z",
     "iopub.status.idle": "2024-04-01T06:27:58.311014Z",
     "shell.execute_reply": "2024-04-01T06:27:58.310284Z"
    },
    "papermill": {
     "duration": 0.605924,
     "end_time": "2024-04-01T06:27:58.313205",
     "exception": false,
     "start_time": "2024-04-01T06:27:57.707281",
     "status": "completed"
    },
    "tags": []
   },
   "outputs": [
    {
     "data": {
      "image/png": "[encoded data removed]",
      "text/plain": [
       "<Figure size 640x480 with 1 Axes>"
      ]
     },
     "metadata": {},
     "output_type": "display_data"
    }
   ],
   "source": [
    "import matplotlib.pyplot as plt\n",
    "\n",
    "plt.plot(history.history['loss'], color='blue', linestyle='-', label='Training Loss')\n",
    "plt.plot(history.history['val_loss'], color='red', linestyle='--', label='Validation Loss')\n",
    "plt.title('Model Loss')\n",
    "plt.xlabel('Epoch')\n",
    "plt.ylabel('Loss')\n",
    "plt.grid(True, which='both', linestyle='--', linewidth=0.5)\n",
    "plt.legend()\n",
    "plt.show()"
   ]
  },
  {
   "cell_type": "code",
   "execution_count": null,
   "id": "e3f3f26c",
   "metadata": {
    "papermill": {
     "duration": 0.304433,
     "end_time": "2024-04-01T06:27:58.938680",
     "exception": false,
     "start_time": "2024-04-01T06:27:58.634247",
     "status": "completed"
    },
    "tags": []
   },
   "outputs": [],
   "source": []
  }
 ],
 "metadata": {
  "kaggle": {
   "accelerator": "gpu",
   "dataSources": [
    {
     "datasetId": 1835,
     "sourceId": 3176,
     "sourceType": "datasetVersion"
    },
    {
     "datasetId": 134715,
     "sourceId": 320111,
     "sourceType": "datasetVersion"
    }
   ],
   "dockerImageVersionId": 30674,
   "isGpuEnabled": true,
   "isInternetEnabled": true,
   "language": "python",
   "sourceType": "notebook"
  },
  "kernelspec": {
   "display_name": "Python 3",
   "language": "python",
   "name": "python3"
  },
  "language_info": {
   "codemirror_mode": {
    "name": "ipython",
    "version": 3
   },
   "file_extension": ".py",
   "mimetype": "text/x-python",
   "name": "python",
   "nbconvert_exporter": "python",
   "pygments_lexer": "ipython3",
   "version": "3.10.13"
  },
  "papermill": {
   "default_parameters": {},
   "duration": 363.379047,
   "end_time": "2024-04-01T06:28:02.504683",
   "environment_variables": {},
   "exception": null,
   "input_path": "__notebook__.ipynb",
   "output_path": "__notebook__.ipynb",
   "parameters": {},
   "start_time": "2024-04-01T06:21:59.125636",
   "version": "2.5.0"
  }
 },
 "nbformat": 4,
 "nbformat_minor": 5
}
