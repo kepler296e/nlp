{
 "cells": [
  {
   "cell_type": "markdown",
   "metadata": {},
   "source": [
    "### Word Embeddings\n",
    "Following the [DeepLearning.AI course on Sequence Models](https://www.coursera.org/learn/nlp-sequence-models).\n",
    "\n",
    "Word embeddings are representations of words in a vector space. Each dimension represents a feature (e.g., \"blue\" and \"red\" are close on the color dimension). In this case, we are using the pre-trained GloVe embeddings, which has 50 dimensions."
   ]
  },
  {
   "cell_type": "code",
   "execution_count": 1,
   "metadata": {},
   "outputs": [],
   "source": [
    "import numpy as np\n",
    "\n",
    "def read_glove_vecs():\n",
    "    with open('datasets/glove_6B_50d.txt', 'r', encoding='utf-8') as f:\n",
    "        words = set()\n",
    "        word2vec = {}\n",
    "        for line in f:\n",
    "            line = line.strip().split()\n",
    "            curr_word = line[0]\n",
    "            words.add(curr_word)\n",
    "            word2vec[curr_word] = np.array(line[1:], dtype=np.float64)\n",
    "    return words, word2vec\n",
    "\n",
    "words, word2vec = read_glove_vecs()"
   ]
  },
  {
   "cell_type": "code",
   "execution_count": 2,
   "metadata": {},
   "outputs": [
    {
     "name": "stdout",
     "output_type": "stream",
     "text": [
      "[-0.25522  -0.75249  -0.86655   1.1197    0.12887   1.0121   -0.57249\n",
      " -0.36224   0.44341  -0.12211   0.073524  0.21387   0.96744  -0.068611\n",
      "  0.51452  -0.053425 -0.21966   0.23012   1.043    -0.77016  -0.16753\n",
      " -1.0952    0.24837   0.20019  -0.40866  -0.48037   0.10674   0.5316\n",
      "  1.111    -0.19322   1.4768   -0.51783  -0.79569   1.7971   -0.33392\n",
      " -0.14545  -1.5454    0.0135    0.10684  -0.30722  -0.54572   0.38938\n",
      "  0.24659  -0.85166   0.54966   0.82679  -0.68081  -0.77864  -0.028242\n",
      " -0.82872 ]\n",
      "(50,)\n"
     ]
    }
   ],
   "source": [
    "print(word2vec['banana'])\n",
    "print(word2vec['banana'].shape)"
   ]
  },
  {
   "cell_type": "markdown",
   "metadata": {},
   "source": [
    "Given that embeddings are vectors, we can calculate the similarity between two words using the cosine similarity:\n",
    "\n",
    "$$\\text{CosineSimilarity(u, v)} = \\frac {u \\cdot v} {||u||_2 ||v||_2} = cos(\\theta) \\tag{1}$$"
   ]
  },
  {
   "cell_type": "code",
   "execution_count": 3,
   "metadata": {},
   "outputs": [],
   "source": [
    "def cosine_similarity(u, v):\n",
    "    return u @ v  / (np.linalg.norm(u) * np.linalg.norm(v))"
   ]
  },
  {
   "cell_type": "markdown",
   "metadata": {},
   "source": [
    "where:\n",
    "- cos(0) = 1 (they are the same word)\n",
    "- cos(90) = 0 (orthogonal, so no similarity)\n",
    "- cos(180) = -1 (similarity, but in the opposite direction)"
   ]
  },
  {
   "cell_type": "code",
   "execution_count": 4,
   "metadata": {},
   "outputs": [
    {
     "name": "stdout",
     "output_type": "stream",
     "text": [
      "similarity(banana, fruit): 0.7181406064676134\n",
      "similarity(banana, fire): 0.15051801204391835\n"
     ]
    }
   ],
   "source": [
    "print(\"similarity(banana, fruit):\", cosine_similarity(word2vec['banana'], word2vec['fruit']))\n",
    "print(\"similarity(banana, fire):\", cosine_similarity(word2vec['banana'], word2vec['fire']))"
   ]
  },
  {
   "cell_type": "markdown",
   "metadata": {},
   "source": [
    "One of the most interesting properties of the word embeddings is that we can perform arithmetic.\n",
    "\n",
    "king - man + woman = queen\n",
    "\n",
    "<img src=\"https://blog.acolyer.org/wp-content/uploads/2016/04/word2vec-king-queen-composition.png\" width=\"300\"/>"
   ]
  },
  {
   "cell_type": "code",
   "execution_count": 5,
   "metadata": {},
   "outputs": [
    {
     "name": "stdout",
     "output_type": "stream",
     "text": [
      "king - man + woman = queen\n"
     ]
    }
   ],
   "source": [
    "u = word2vec['king'] - word2vec['man'] + word2vec['woman']\n",
    "max_sim = -100\n",
    "best_word = None\n",
    "for w in words:\n",
    "    if w in ['king', 'man', 'woman']:\n",
    "        continue\n",
    "    sim = cosine_similarity(u, word2vec[w])\n",
    "    if sim > max_sim:\n",
    "        max_sim = sim\n",
    "        best_word = w\n",
    "print(\"king - man + woman =\", best_word)"
   ]
  },
  {
   "cell_type": "markdown",
   "metadata": {},
   "source": [
    "Function to solve the general case with words a b c:"
   ]
  },
  {
   "cell_type": "code",
   "execution_count": 6,
   "metadata": {},
   "outputs": [],
   "source": [
    "def complete_analogy(word_a, word_b, word_c):\n",
    "    word_a, word_b, word_c = word_a.lower(), word_b.lower(), word_c.lower()\n",
    "    e_a, e_b, e_c = word2vec[word_a], word2vec[word_b], word2vec[word_c]\n",
    "    \n",
    "    words = word2vec.keys()\n",
    "    max_cosine_sim = -100\n",
    "    best_word = None\n",
    "    \n",
    "    for w in words:\n",
    "        if w == word_c:\n",
    "            continue\n",
    "        \n",
    "        cosine_sim = cosine_similarity((e_b - e_a), (word2vec[w] - e_c))\n",
    "        \n",
    "        if cosine_sim > max_cosine_sim:\n",
    "            max_cosine_sim = cosine_sim\n",
    "            best_word = w\n",
    "            \n",
    "    return best_word"
   ]
  },
  {
   "cell_type": "code",
   "execution_count": 7,
   "metadata": {},
   "outputs": [
    {
     "name": "stdout",
     "output_type": "stream",
     "text": [
      "king -> man :: queen -> woman\n",
      "france -> paris :: japan -> tokyo\n",
      "japan -> japanese :: china -> chinese\n"
     ]
    }
   ],
   "source": [
    "triads_to_try = [\n",
    "    ('king', 'man', 'queen'),\n",
    "    ('france', 'paris', 'japan'),\n",
    "    ('japan', 'japanese', 'china')]\n",
    "for triad in triads_to_try:\n",
    "    print ('{} -> {} :: {} -> {}'.format(*triad, complete_analogy(*triad)))"
   ]
  },
  {
   "cell_type": "markdown",
   "metadata": {},
   "source": [
    "We can visualize the embeddings in 2D by using t-SNE for dimensionality reduction and K-means for clustering."
   ]
  },
  {
   "cell_type": "code",
   "execution_count": 30,
   "metadata": {},
   "outputs": [
    {
     "data": {
      "image/png": "[encoded data removed]",
      "text/plain": [
       "<Figure size 640x480 with 1 Axes>"
      ]
     },
     "metadata": {},
     "output_type": "display_data"
    }
   ],
   "source": [
    "from sklearn.cluster import KMeans\n",
    "import matplotlib.pyplot as plt\n",
    "from sklearn.manifold import TSNE\n",
    "\n",
    "tech = ['internet', 'computers', 'wifi', 'software', 'hardware', 'programming', 'algorithms']\n",
    "fruits = ['banana', 'pineapple', 'orange', 'grape', 'strawberry', 'kiwi', 'watermelon']\n",
    "countries = ['france', 'germany', 'spain', 'portugal', 'italy', 'greece', 'poland', 'russia']\n",
    "vehicles = ['car', 'bike', 'train', 'plane', 'boat', 'submarine', 'helicopter', 'rocket']\n",
    "special_words =  tech + fruits + countries + vehicles\n",
    "num_clusters = 4\n",
    "\n",
    "vectors = np.array([word2vec[w] for w in special_words])\n",
    "\n",
    "kmeans = KMeans(n_clusters=4, random_state=0)\n",
    "clusters = kmeans.fit_predict(vectors)\n",
    "\n",
    "tsne = TSNE(n_components=2, perplexity=12, random_state=0)\n",
    "vectors_tsne = tsne.fit_transform(vectors)\n",
    "\n",
    "for i in range(num_clusters):\n",
    "    plt.scatter(vectors_tsne[clusters == i, 0], vectors_tsne[clusters == i, 1], label=f\"Cluster {i+1}\")\n",
    "\n",
    "for word, (x, y) in zip(special_words, vectors_tsne):\n",
    "    plt.annotate(word, xy=(x, y), xytext=(4, 2), textcoords='offset points', fontsize=8)\n",
    "    \n",
    "plt.legend()\n",
    "plt.xticks([])\n",
    "plt.yticks([])\n",
    "plt.show()"
   ]
  },
  {
   "cell_type": "code",
   "execution_count": null,
   "metadata": {},
   "outputs": [],
   "source": []
  }
 ],
 "metadata": {
  "kernelspec": {
   "display_name": "Python 3",
   "language": "python",
   "name": "python3"
  },
  "language_info": {
   "codemirror_mode": {
    "name": "ipython",
    "version": 3
   },
   "file_extension": ".py",
   "mimetype": "text/x-python",
   "name": "python",
   "nbconvert_exporter": "python",
   "pygments_lexer": "ipython3",
   "version": "3.12.2"
  },
  "orig_nbformat": 4
 },
 "nbformat": 4,
 "nbformat_minor": 2
}
